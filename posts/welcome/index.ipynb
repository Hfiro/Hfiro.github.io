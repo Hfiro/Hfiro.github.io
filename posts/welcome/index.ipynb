{
 "cells": [
  {
   "cell_type": "raw",
   "metadata": {},
   "source": [
    "---\n",
    "title: Probability theory and random variables\n",
    "author: Hoda Alemrajabi\n",
    "date: '2023-11-03'\n",
    "categories:\n",
    "  - news\n",
    "  - code\n",
    "  - analysis\n",
    "---"
   ]
  },
  {
   "cell_type": "markdown",
   "metadata": {},
   "source": [
    "This is the first post in the Quarto blog of Hoda Alemrajabi . Welcome!\n",
    "\n",
    "![](https://files.oaiusercontent.com/file-78Te8ZCTrKKxP2PAH9UAFu3n?se=2023-11-26T20%3A17%3A50Z&sp=r&sv=2021-08-06&sr=b&rscc=max-age%3D31536000%2C%20immutable&rscd=attachment%3B%20filename%3D61534028-0f6d-4e7c-8242-7587401982d0.webp&sig=DhJwKsUmWJ08UZZghN8L2%2BqAIci3ShSR/kZpsxz4aNo%3D){width=\"282\"}\n",
    "\n",
    "In this post, I will talk about Probability theory and random variables.\n",
    "\n",
    "In this topic, one common concept is the visualization of different probability distributions, which are fundamental in understanding random variables. Here's an example where I visualized a Normal (Gaussian) distribution, which is a cornerstone in probability theory and often used in machine learning:\n",
    "\n",
    "1.  **Generating Random Data**: I used **`numpy`** to generate random data following a normal distribution.\n",
    "\n",
    "2.  **Visualization**: I used **`matplotlib`** to plot the histogram of this data to visualize the distribution.\n",
    "\n",
    "Here's the Python code to do this:"
   ]
  },
  {
   "cell_type": "code",
   "execution_count": null,
   "metadata": {},
   "outputs": [],
   "source": [
    "import numpy as np\n",
    "import matplotlib.pyplot as plt\n",
    "\n",
    "# Generate random data from a normal distribution\n",
    "mu, sigma = 0, 0.1  # mean and standard deviation\n",
    "s = np.random.normal(mu, sigma, 1000)\n",
    "\n",
    "# Create the histogram of the data\n",
    "count, bins, ignored = plt.hist(s, 30, density=True)\n",
    "\n",
    "# Plot the distribution curve\n",
    "plt.plot(bins, 1/(sigma * np.sqrt(2 * np.pi)) *\n",
    "               np.exp(- (bins - mu)**2 / (2 * sigma**2)),\n",
    "         linewidth=2, color='r')\n",
    "plt.title('Normal Distribution (Gaussian)')\n",
    "plt.xlabel('Value')\n",
    "plt.ylabel('Probability Density')\n",
    "plt.show()"
   ]
  },
  {
   "cell_type": "markdown",
   "metadata": {},
   "source": [
    "Running this code will give us a graphical representation of a normal distribution, which is an essential concept in probability theory related to random variables. We can modify **`mu`** and **`sigma`** to see how the distribution changes. This kind of visualization is particularly useful in understanding data distributions in machine learning."
   ]
  }
 ],
 "metadata": {
  "jupytext": {
   "formats": "qmd,ipynb"
  },
  "kernelspec": {
   "display_name": "Python 3 (ipykernel)",
   "language": "python",
   "name": "python3"
  },
  "language_info": {
   "name": ""
  }
 },
 "nbformat": 4,
 "nbformat_minor": 4
}
