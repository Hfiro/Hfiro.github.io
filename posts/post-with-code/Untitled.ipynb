{
 "cells": [
  {
   "cell_type": "code",
   "execution_count": 1,
   "id": "9e2b2de2-cdc4-43a7-b9a9-38f36c626592",
   "metadata": {
    "tags": []
   },
   "outputs": [
    {
     "name": "stdout",
     "output_type": "stream",
     "text": [
      "Collecting jupytext\n",
      "  Obtaining dependency information for jupytext from https://files.pythonhosted.org/packages/9e/e3/3c5b6cce216d090ed6cf6cc258602f836d050738ac02f97cb71675f9cfe3/jupytext-1.15.2-py3-none-any.whl.metadata\n",
      "  Downloading jupytext-1.15.2-py3-none-any.whl.metadata (9.7 kB)\n",
      "Requirement already satisfied: nbformat in c:\\users\\hodaa\\anaconda3\\lib\\site-packages (from jupytext) (5.7.0)\n",
      "Requirement already satisfied: pyyaml in c:\\users\\hodaa\\anaconda3\\lib\\site-packages (from jupytext) (6.0)\n",
      "Requirement already satisfied: toml in c:\\users\\hodaa\\anaconda3\\lib\\site-packages (from jupytext) (0.10.2)\n",
      "Requirement already satisfied: markdown-it-py>=1.0.0 in c:\\users\\hodaa\\anaconda3\\lib\\site-packages (from jupytext) (2.2.0)\n",
      "Requirement already satisfied: mdit-py-plugins in c:\\users\\hodaa\\anaconda3\\lib\\site-packages (from jupytext) (0.3.0)\n",
      "Requirement already satisfied: mdurl~=0.1 in c:\\users\\hodaa\\anaconda3\\lib\\site-packages (from markdown-it-py>=1.0.0->jupytext) (0.1.0)\n",
      "Requirement already satisfied: fastjsonschema in c:\\users\\hodaa\\anaconda3\\lib\\site-packages (from nbformat->jupytext) (2.16.2)\n",
      "Requirement already satisfied: jsonschema>=2.6 in c:\\users\\hodaa\\anaconda3\\lib\\site-packages (from nbformat->jupytext) (4.17.3)\n",
      "Requirement already satisfied: jupyter-core in c:\\users\\hodaa\\anaconda3\\lib\\site-packages (from nbformat->jupytext) (5.3.0)\n",
      "Requirement already satisfied: traitlets>=5.1 in c:\\users\\hodaa\\anaconda3\\lib\\site-packages (from nbformat->jupytext) (5.7.1)\n",
      "Requirement already satisfied: attrs>=17.4.0 in c:\\users\\hodaa\\anaconda3\\lib\\site-packages (from jsonschema>=2.6->nbformat->jupytext) (22.1.0)\n",
      "Requirement already satisfied: pyrsistent!=0.17.0,!=0.17.1,!=0.17.2,>=0.14.0 in c:\\users\\hodaa\\anaconda3\\lib\\site-packages (from jsonschema>=2.6->nbformat->jupytext) (0.18.0)\n",
      "Requirement already satisfied: platformdirs>=2.5 in c:\\users\\hodaa\\anaconda3\\lib\\site-packages (from jupyter-core->nbformat->jupytext) (2.5.2)\n",
      "Requirement already satisfied: pywin32>=300 in c:\\users\\hodaa\\anaconda3\\lib\\site-packages (from jupyter-core->nbformat->jupytext) (305.1)\n",
      "Downloading jupytext-1.15.2-py3-none-any.whl (307 kB)\n",
      "   ---------------------------------------- 0.0/307.2 kB ? eta -:--:--\n",
      "   - -------------------------------------- 10.2/307.2 kB ? eta -:--:--\n",
      "   - -------------------------------------- 10.2/307.2 kB ? eta -:--:--\n",
      "   ------- ------------------------------- 61.4/307.2 kB 409.6 kB/s eta 0:00:01\n",
      "   ------------- ------------------------ 112.6/307.2 kB 656.4 kB/s eta 0:00:01\n",
      "   --------------------- ---------------- 174.1/307.2 kB 807.1 kB/s eta 0:00:01\n",
      "   ------------------------------- ------ 256.0/307.2 kB 983.0 kB/s eta 0:00:01\n",
      "   -------------------------------------- 307.2/307.2 kB 999.9 kB/s eta 0:00:00\n",
      "Installing collected packages: jupytext\n",
      "Successfully installed jupytext-1.15.2\n",
      "Note: you may need to restart the kernel to use updated packages.\n"
     ]
    }
   ],
   "source": [
    "%pip install jupytext"
   ]
  },
  {
   "cell_type": "code",
   "execution_count": null,
   "id": "79b03da0-9aa7-48bd-95de-0a4f3c63197d",
   "metadata": {},
   "outputs": [],
   "source": []
  }
 ],
 "metadata": {
  "kernelspec": {
   "display_name": "Python 3 (ipykernel)",
   "language": "python",
   "name": "python3"
  },
  "language_info": {
   "codemirror_mode": {
    "name": "ipython",
    "version": 3
   },
   "file_extension": ".py",
   "mimetype": "text/x-python",
   "name": "python",
   "nbconvert_exporter": "python",
   "pygments_lexer": "ipython3",
   "version": "3.11.4"
  }
 },
 "nbformat": 4,
 "nbformat_minor": 5
}
