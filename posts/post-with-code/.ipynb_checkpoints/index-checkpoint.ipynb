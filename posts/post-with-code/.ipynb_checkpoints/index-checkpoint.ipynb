{
 "cells": [
  {
   "cell_type": "raw",
   "metadata": {},
   "source": [
    "title: \"Post With Code\" \n",
    "author: \"Hoda Alemrajabi\" \n",
    "date: \"2023-11-06\" \n",
    "cache: true \n",
    "categories: -news -code -analysis \n",
    "image: \"image.jpg\"\n",
    "\n",
    "This is a post with executable code.\n",
    "\n",
    "1 + 1"
   ]
  }
 ],
 "metadata": {
  "jupytext": {
   "formats": "ipynb,qmd"
  },
  "kernelspec": {
   "display_name": "Python 3 (ipykernel)",
   "language": "python",
   "name": "python3"
  },
  "language_info": {
   "codemirror_mode": {
    "name": "ipython",
    "version": 3
   },
   "file_extension": ".py",
   "mimetype": "text/x-python",
   "name": "python",
   "nbconvert_exporter": "python",
   "pygments_lexer": "ipython3",
   "version": "3.11.4"
  }
 },
 "nbformat": 4,
 "nbformat_minor": 4
}
